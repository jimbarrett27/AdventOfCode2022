{
 "cells": [
  {
   "cell_type": "markdown",
   "id": "c76a5116",
   "metadata": {},
   "source": [
    "# Day 1"
   ]
  },
  {
   "cell_type": "code",
   "execution_count": 1,
   "id": "bf82a952",
   "metadata": {},
   "outputs": [
    {
     "data": {
      "text/plain": [
       "66616"
      ]
     },
     "execution_count": 1,
     "metadata": {},
     "output_type": "execute_result"
    }
   ],
   "source": [
    "with open('inputs/day1.txt') as f:\n",
    "    lines = f.read().split('\\n')\n",
    "    \n",
    "total = 0\n",
    "highest_total = 0\n",
    "for line in lines:\n",
    "    if line == '':\n",
    "        if total > highest_total:\n",
    "            highest_total = total\n",
    "        total = 0\n",
    "    else:\n",
    "        total += int(line)\n",
    "highest_total"
   ]
  },
  {
   "cell_type": "code",
   "execution_count": 2,
   "id": "7b96d51a",
   "metadata": {},
   "outputs": [
    {
     "data": {
      "text/plain": [
       "199172"
      ]
     },
     "execution_count": 2,
     "metadata": {},
     "output_type": "execute_result"
    }
   ],
   "source": [
    "with open('inputs/day1.txt') as f:\n",
    "    lines = f.read().split('\\n')\n",
    "    \n",
    "total = 0\n",
    "totals = []\n",
    "for line in lines:\n",
    "    if line == '':\n",
    "        totals.append(total)\n",
    "        total = 0\n",
    "    else:\n",
    "        total += int(line)\n",
    "sum(sorted(totals, reverse=True)[:3])"
   ]
  },
  {
   "cell_type": "markdown",
   "id": "9753e280",
   "metadata": {},
   "source": [
    "# Day 2"
   ]
  },
  {
   "cell_type": "code",
   "execution_count": 3,
   "id": "53df999b",
   "metadata": {},
   "outputs": [
    {
     "data": {
      "text/plain": [
       "15632"
      ]
     },
     "execution_count": 3,
     "metadata": {},
     "output_type": "execute_result"
    }
   ],
   "source": [
    "def get_name(letter: str):\n",
    "    if letter in ('A','X'):\n",
    "        return 'R'\n",
    "    if letter in ('B', 'Y'):\n",
    "        return 'P'\n",
    "    if letter in ('C', 'Z'):\n",
    "        return 'S'\n",
    "    \n",
    "with open('inputs/day2.txt') as f:\n",
    "    lines = f.read().split('\\n')\n",
    "\n",
    "score = 0\n",
    "for line in lines:\n",
    "    if line == '':\n",
    "        continue\n",
    "    opponent, player = list(map(get_name,line.split()))\n",
    "    if (\n",
    "        (opponent == 'R' and player == 'P') or\n",
    "        (opponent == 'P' and player == 'S') or\n",
    "        (opponent == 'S' and player == 'R') \n",
    "    ):\n",
    "        score += 6\n",
    "    elif opponent == player:\n",
    "        score += 3\n",
    "    \n",
    "    if player == 'R':\n",
    "        score += 1\n",
    "    if player == 'P':\n",
    "        score += 2\n",
    "    if player == 'S':\n",
    "        score += 3\n",
    "        \n",
    "score"
   ]
  },
  {
   "cell_type": "code",
   "execution_count": 4,
   "id": "cf83999f",
   "metadata": {},
   "outputs": [
    {
     "data": {
      "text/plain": [
       "14416"
      ]
     },
     "execution_count": 4,
     "metadata": {},
     "output_type": "execute_result"
    }
   ],
   "source": [
    "def get_name(letter: str):\n",
    "    if letter == 'A':\n",
    "        return 'R'\n",
    "    if letter == 'B':\n",
    "        return 'P'\n",
    "    if letter == 'C':\n",
    "        return 'S'\n",
    "    \n",
    "with open('inputs/day2.txt') as f:\n",
    "    lines = f.read().split('\\n')\n",
    "\n",
    "score = 0\n",
    "for line in lines:\n",
    "    if line == '':\n",
    "        continue\n",
    "    line = line.split()\n",
    "    opponent = get_name(line[0])\n",
    "    outcome = line[1]\n",
    "    if outcome == 'X':\n",
    "        if opponent == 'R':\n",
    "            score += 3\n",
    "        elif opponent == 'P':\n",
    "            score += 1\n",
    "        elif opponent == 'S':\n",
    "            score += 2\n",
    "            \n",
    "    if outcome == 'Y':\n",
    "        if opponent == 'R':\n",
    "            score += 4\n",
    "        elif opponent == 'P':\n",
    "            score += 5\n",
    "        elif opponent == 'S':\n",
    "            score += 6\n",
    "            \n",
    "    if outcome == 'Z':\n",
    "        if opponent == 'R':\n",
    "            score += 8\n",
    "        elif opponent == 'P':\n",
    "            score += 9\n",
    "        elif opponent == 'S':\n",
    "            score += 7\n",
    "            \n",
    "score"
   ]
  },
  {
   "cell_type": "markdown",
   "id": "8a02e418",
   "metadata": {},
   "source": [
    "# Day 3"
   ]
  },
  {
   "cell_type": "code",
   "execution_count": 5,
   "id": "67aa51c6",
   "metadata": {},
   "outputs": [],
   "source": [
    "all_letters = 'abcdefghijklmnopqrstuvwxyzABCDEFGHIJKLMNOPQRSTUVWXYZ'\n",
    "priority = lambda l: all_letters.index(l) + 1"
   ]
  },
  {
   "cell_type": "code",
   "execution_count": 6,
   "id": "bed56278",
   "metadata": {},
   "outputs": [
    {
     "data": {
      "text/plain": [
       "8088"
      ]
     },
     "execution_count": 6,
     "metadata": {},
     "output_type": "execute_result"
    }
   ],
   "source": [
    "with open('inputs/day3.txt') as f:\n",
    "    lines = f.read().split('\\n')\n",
    "\n",
    "summed_prios = 0\n",
    "for line in lines:\n",
    "    if line == '':\n",
    "        continue\n",
    "    comp_size = int(len(line)/2)\n",
    "    comp1 = line[:comp_size]\n",
    "    comp2 = line[comp_size:]\n",
    "    \n",
    "    summed_prios += priority(list(set(comp1) & set(comp2))[0])\n",
    "            \n",
    "summed_prios"
   ]
  },
  {
   "cell_type": "code",
   "execution_count": 7,
   "id": "9f8ef436",
   "metadata": {},
   "outputs": [
    {
     "data": {
      "text/plain": [
       "2522"
      ]
     },
     "execution_count": 7,
     "metadata": {},
     "output_type": "execute_result"
    }
   ],
   "source": [
    "with open('inputs/day3.txt') as f:\n",
    "    lines = f.read().split('\\n')\n",
    "    \n",
    "summed_prios = 0\n",
    "for line_ind in range(0,len(lines)-1, 3):\n",
    "    rucksacks = list(map(set, lines[line_ind: line_ind+3]))\n",
    "    common_item = list(set.intersection(*rucksacks))[0]\n",
    "    summed_prios += priority(common_item)\n",
    "summed_prios"
   ]
  },
  {
   "cell_type": "markdown",
   "id": "af197931",
   "metadata": {},
   "source": [
    "# Day 4"
   ]
  },
  {
   "cell_type": "code",
   "execution_count": 8,
   "id": "1a29edf5",
   "metadata": {},
   "outputs": [
    {
     "data": {
      "text/plain": [
       "456"
      ]
     },
     "execution_count": 8,
     "metadata": {},
     "output_type": "execute_result"
    }
   ],
   "source": [
    "with open('inputs/day4.txt') as f:\n",
    "    lines = f.read().split('\\n')\n",
    "\n",
    "count = 0\n",
    "for line in lines[:-1]:\n",
    "    r1, r2 = line.split(',')\n",
    "    r1_min, r1_max = map(int,r1.split('-'))\n",
    "    r2_min, r2_max = map(int,r2.split('-'))\n",
    "    \n",
    "    if (\n",
    "        (r1_min <= r2_min and r1_max >= r2_max) or\n",
    "        (r2_min <= r1_min and r2_max >= r1_max)\n",
    "    ):\n",
    "        count += 1\n",
    "count"
   ]
  },
  {
   "cell_type": "code",
   "execution_count": 9,
   "id": "6617b4b3",
   "metadata": {},
   "outputs": [
    {
     "data": {
      "text/plain": [
       "808"
      ]
     },
     "execution_count": 9,
     "metadata": {},
     "output_type": "execute_result"
    }
   ],
   "source": [
    "with open('inputs/day4.txt') as f:\n",
    "    lines = f.read().split('\\n')\n",
    "\n",
    "count = 0\n",
    "for line in lines[:-1]:\n",
    "    r1, r2 = line.split(',')\n",
    "    r1_min, r1_max = map(int,r1.split('-'))\n",
    "    r2_min, r2_max = map(int,r2.split('-'))\n",
    "\n",
    "    if set(range(r1_min,r1_max+1)) & set(range(r2_min,r2_max+1)):\n",
    "        count += 1\n",
    "count"
   ]
  },
  {
   "cell_type": "markdown",
   "id": "76c49056",
   "metadata": {},
   "source": [
    "# Day 5"
   ]
  },
  {
   "cell_type": "code",
   "execution_count": 46,
   "id": "eda6373e",
   "metadata": {},
   "outputs": [
    {
     "data": {
      "text/plain": [
       "{0: ['T', 'Q', 'V', 'C', 'D', 'S', 'N'],\n",
       " 1: ['V', 'F', 'M'],\n",
       " 2: ['M', 'H', 'N', 'P', 'D', 'W', 'Q', 'F'],\n",
       " 3: ['F', 'T', 'R', 'Q', 'D'],\n",
       " 4: ['B', 'V', 'H', 'Q', 'N', 'M', 'F', 'R'],\n",
       " 5: ['Q', 'W', 'P', 'N', 'G', 'F', 'C'],\n",
       " 6: ['T', 'C', 'L', 'R', 'F', 'W'],\n",
       " 7: ['S', 'N', 'Z', 'T'],\n",
       " 8: ['N', 'H', 'Q', 'R', 'J', 'D', 'S', 'M']}"
      ]
     },
     "execution_count": 46,
     "metadata": {},
     "output_type": "execute_result"
    }
   ],
   "source": [
    "with open('inputs/day5.txt') as f:\n",
    "    lines = f.read().split('\\n')\n",
    "    \n",
    "break_index = lines.index('')\n",
    "n_piles = max(map(int, lines[break_index-1].split()))\n",
    "\n",
    "boxes = {i:[] for i in range(n_piles)}\n",
    "for line in lines[:break_index-1]:\n",
    "    for i, ind in enumerate(range(1, 4*n_piles, 4)):\n",
    "        if line[ind]:\n",
    "            boxes[i].append(line[ind])\n",
    "\n",
    "boxes = {i: list(filter(lambda x: x!=' ', box)) for i, box in boxes.items()}\n",
    "boxes"
   ]
  },
  {
   "cell_type": "code",
   "execution_count": 55,
   "id": "06d0f74f",
   "metadata": {},
   "outputs": [
    {
     "data": {
      "text/plain": [
       "'DLRPSBNQG'"
      ]
     },
     "execution_count": 55,
     "metadata": {},
     "output_type": "execute_result"
    }
   ],
   "source": [
    "for line in lines[break_index+1:-1]:\n",
    "    move, fr, to = list(map(int,line.split()[1::2]))\n",
    "    \n",
    "    moving_boxes = boxes[fr-1][:move]\n",
    "    boxes[fr-1] = boxes[fr-1][move:]\n",
    "    boxes[to-1] = moving_boxes[::-1] + boxes[to-1]\n",
    "    \n",
    "''.join([boxes[i][0] for i in range(n_piles)])"
   ]
  },
  {
   "cell_type": "code",
   "execution_count": 49,
   "id": "124aae5b",
   "metadata": {},
   "outputs": [
    {
     "data": {
      "text/plain": [
       "{0: ['H', 'V', 'D', 'C', 'F', 'D', 'F'],\n",
       " 1: ['R', 'Q'],\n",
       " 2: ['F'],\n",
       " 3: ['T', 'N', 'C', 'W', 'R'],\n",
       " 4: ['Q', 'P', 'M', 'W', 'B', 'S', 'H', 'J', 'Q', 'T', 'M'],\n",
       " 5: ['V', 'Q'],\n",
       " 6: ['W', 'R', 'T', 'C', 'M', 'V', 'F', 'M', 'Q', 'S', 'N'],\n",
       " 7: ['N', 'N', 'D', 'P'],\n",
       " 8: ['N', 'L', 'D', 'Q', 'H', 'F', 'R', 'G', 'Z', 'N', 'F', 'T', 'S']}"
      ]
     },
     "execution_count": 49,
     "metadata": {},
     "output_type": "execute_result"
    }
   ],
   "source": []
  },
  {
   "cell_type": "code",
   "execution_count": null,
   "id": "d00a58bb",
   "metadata": {},
   "outputs": [],
   "source": []
  }
 ],
 "metadata": {
  "kernelspec": {
   "display_name": "Python 3 (ipykernel)",
   "language": "python",
   "name": "python3"
  },
  "language_info": {
   "codemirror_mode": {
    "name": "ipython",
    "version": 3
   },
   "file_extension": ".py",
   "mimetype": "text/x-python",
   "name": "python",
   "nbconvert_exporter": "python",
   "pygments_lexer": "ipython3",
   "version": "3.9.5"
  }
 },
 "nbformat": 4,
 "nbformat_minor": 5
}
