{
 "cells": [
  {
   "cell_type": "markdown",
   "id": "c76a5116",
   "metadata": {},
   "source": [
    "# Day 1"
   ]
  },
  {
   "cell_type": "code",
   "execution_count": 1,
   "id": "bf82a952",
   "metadata": {},
   "outputs": [
    {
     "data": {
      "text/plain": [
       "66616"
      ]
     },
     "execution_count": 1,
     "metadata": {},
     "output_type": "execute_result"
    }
   ],
   "source": [
    "with open('inputs/day1.txt') as f:\n",
    "    lines = f.read().split('\\n')\n",
    "    \n",
    "total = 0\n",
    "highest_total = 0\n",
    "for line in lines:\n",
    "    if line == '':\n",
    "        if total > highest_total:\n",
    "            highest_total = total\n",
    "        total = 0\n",
    "    else:\n",
    "        total += int(line)\n",
    "highest_total"
   ]
  },
  {
   "cell_type": "code",
   "execution_count": 2,
   "id": "7b96d51a",
   "metadata": {},
   "outputs": [
    {
     "data": {
      "text/plain": [
       "199172"
      ]
     },
     "execution_count": 2,
     "metadata": {},
     "output_type": "execute_result"
    }
   ],
   "source": [
    "with open('inputs/day1.txt') as f:\n",
    "    lines = f.read().split('\\n')\n",
    "    \n",
    "total = 0\n",
    "totals = []\n",
    "for line in lines:\n",
    "    if line == '':\n",
    "        totals.append(total)\n",
    "        total = 0\n",
    "    else:\n",
    "        total += int(line)\n",
    "sum(sorted(totals, reverse=True)[:3])"
   ]
  },
  {
   "cell_type": "markdown",
   "id": "9753e280",
   "metadata": {},
   "source": [
    "# Day 2"
   ]
  },
  {
   "cell_type": "code",
   "execution_count": 3,
   "id": "53df999b",
   "metadata": {},
   "outputs": [
    {
     "data": {
      "text/plain": [
       "15632"
      ]
     },
     "execution_count": 3,
     "metadata": {},
     "output_type": "execute_result"
    }
   ],
   "source": [
    "def get_name(letter: str):\n",
    "    if letter in ('A','X'):\n",
    "        return 'R'\n",
    "    if letter in ('B', 'Y'):\n",
    "        return 'P'\n",
    "    if letter in ('C', 'Z'):\n",
    "        return 'S'\n",
    "    \n",
    "with open('inputs/day2.txt') as f:\n",
    "    lines = f.read().split('\\n')\n",
    "\n",
    "score = 0\n",
    "for line in lines:\n",
    "    if line == '':\n",
    "        continue\n",
    "    opponent, player = list(map(get_name,line.split()))\n",
    "    if (\n",
    "        (opponent == 'R' and player == 'P') or\n",
    "        (opponent == 'P' and player == 'S') or\n",
    "        (opponent == 'S' and player == 'R') \n",
    "    ):\n",
    "        score += 6\n",
    "    elif opponent == player:\n",
    "        score += 3\n",
    "    \n",
    "    if player == 'R':\n",
    "        score += 1\n",
    "    if player == 'P':\n",
    "        score += 2\n",
    "    if player == 'S':\n",
    "        score += 3\n",
    "        \n",
    "score"
   ]
  },
  {
   "cell_type": "code",
   "execution_count": 4,
   "id": "cf83999f",
   "metadata": {},
   "outputs": [
    {
     "data": {
      "text/plain": [
       "14416"
      ]
     },
     "execution_count": 4,
     "metadata": {},
     "output_type": "execute_result"
    }
   ],
   "source": [
    "def get_name(letter: str):\n",
    "    if letter == 'A':\n",
    "        return 'R'\n",
    "    if letter == 'B':\n",
    "        return 'P'\n",
    "    if letter == 'C':\n",
    "        return 'S'\n",
    "    \n",
    "with open('inputs/day2.txt') as f:\n",
    "    lines = f.read().split('\\n')\n",
    "\n",
    "score = 0\n",
    "for line in lines:\n",
    "    if line == '':\n",
    "        continue\n",
    "    line = line.split()\n",
    "    opponent = get_name(line[0])\n",
    "    outcome = line[1]\n",
    "    if outcome == 'X':\n",
    "        if opponent == 'R':\n",
    "            score += 3\n",
    "        elif opponent == 'P':\n",
    "            score += 1\n",
    "        elif opponent == 'S':\n",
    "            score += 2\n",
    "            \n",
    "    if outcome == 'Y':\n",
    "        if opponent == 'R':\n",
    "            score += 4\n",
    "        elif opponent == 'P':\n",
    "            score += 5\n",
    "        elif opponent == 'S':\n",
    "            score += 6\n",
    "            \n",
    "    if outcome == 'Z':\n",
    "        if opponent == 'R':\n",
    "            score += 8\n",
    "        elif opponent == 'P':\n",
    "            score += 9\n",
    "        elif opponent == 'S':\n",
    "            score += 7\n",
    "            \n",
    "score"
   ]
  },
  {
   "cell_type": "markdown",
   "id": "8a02e418",
   "metadata": {},
   "source": [
    "# Day 3"
   ]
  },
  {
   "cell_type": "code",
   "execution_count": 5,
   "id": "67aa51c6",
   "metadata": {},
   "outputs": [],
   "source": [
    "all_letters = 'abcdefghijklmnopqrstuvwxyzABCDEFGHIJKLMNOPQRSTUVWXYZ'\n",
    "priority = lambda l: all_letters.index(l) + 1"
   ]
  },
  {
   "cell_type": "code",
   "execution_count": 6,
   "id": "bed56278",
   "metadata": {},
   "outputs": [
    {
     "data": {
      "text/plain": [
       "8088"
      ]
     },
     "execution_count": 6,
     "metadata": {},
     "output_type": "execute_result"
    }
   ],
   "source": [
    "with open('inputs/day3.txt') as f:\n",
    "    lines = f.read().split('\\n')\n",
    "\n",
    "summed_prios = 0\n",
    "for line in lines:\n",
    "    if line == '':\n",
    "        continue\n",
    "    comp_size = int(len(line)/2)\n",
    "    comp1 = line[:comp_size]\n",
    "    comp2 = line[comp_size:]\n",
    "    \n",
    "    summed_prios += priority(list(set(comp1) & set(comp2))[0])\n",
    "            \n",
    "summed_prios"
   ]
  },
  {
   "cell_type": "code",
   "execution_count": 7,
   "id": "9f8ef436",
   "metadata": {},
   "outputs": [
    {
     "data": {
      "text/plain": [
       "2522"
      ]
     },
     "execution_count": 7,
     "metadata": {},
     "output_type": "execute_result"
    }
   ],
   "source": [
    "with open('inputs/day3.txt') as f:\n",
    "    lines = f.read().split('\\n')\n",
    "    \n",
    "summed_prios = 0\n",
    "for line_ind in range(0,len(lines)-1, 3):\n",
    "    rucksacks = list(map(set, lines[line_ind: line_ind+3]))\n",
    "    common_item = list(set.intersection(*rucksacks))[0]\n",
    "    summed_prios += priority(common_item)\n",
    "summed_prios"
   ]
  },
  {
   "cell_type": "markdown",
   "id": "af197931",
   "metadata": {},
   "source": [
    "# Day 4"
   ]
  },
  {
   "cell_type": "code",
   "execution_count": 8,
   "id": "1a29edf5",
   "metadata": {},
   "outputs": [
    {
     "data": {
      "text/plain": [
       "456"
      ]
     },
     "execution_count": 8,
     "metadata": {},
     "output_type": "execute_result"
    }
   ],
   "source": [
    "with open('inputs/day4.txt') as f:\n",
    "    lines = f.read().split('\\n')\n",
    "\n",
    "count = 0\n",
    "for line in lines[:-1]:\n",
    "    r1, r2 = line.split(',')\n",
    "    r1_min, r1_max = map(int,r1.split('-'))\n",
    "    r2_min, r2_max = map(int,r2.split('-'))\n",
    "    \n",
    "    if (\n",
    "        (r1_min <= r2_min and r1_max >= r2_max) or\n",
    "        (r2_min <= r1_min and r2_max >= r1_max)\n",
    "    ):\n",
    "        count += 1\n",
    "count"
   ]
  },
  {
   "cell_type": "code",
   "execution_count": 9,
   "id": "6617b4b3",
   "metadata": {},
   "outputs": [
    {
     "data": {
      "text/plain": [
       "808"
      ]
     },
     "execution_count": 9,
     "metadata": {},
     "output_type": "execute_result"
    }
   ],
   "source": [
    "with open('inputs/day4.txt') as f:\n",
    "    lines = f.read().split('\\n')\n",
    "\n",
    "count = 0\n",
    "for line in lines[:-1]:\n",
    "    r1, r2 = line.split(',')\n",
    "    r1_min, r1_max = map(int,r1.split('-'))\n",
    "    r2_min, r2_max = map(int,r2.split('-'))\n",
    "\n",
    "    if set(range(r1_min,r1_max+1)) & set(range(r2_min,r2_max+1)):\n",
    "        count += 1\n",
    "count"
   ]
  },
  {
   "cell_type": "markdown",
   "id": "76c49056",
   "metadata": {},
   "source": [
    "# Day 5"
   ]
  },
  {
   "cell_type": "code",
   "execution_count": 10,
   "id": "eda6373e",
   "metadata": {},
   "outputs": [],
   "source": [
    "with open('inputs/day5.txt') as f:\n",
    "    lines = f.read().split('\\n')\n",
    "\n",
    "break_index = lines.index('')\n",
    "n_piles = max(map(int, lines[break_index-1].split()))\n",
    "\n",
    "\n",
    "def load_boxes():\n",
    "    \n",
    "    boxes = [[] for _ in range(n_piles)]\n",
    "\n",
    "    for line in lines[:break_index-1]:\n",
    "        for i, ind in enumerate(range(1, 4*n_piles, 4)):\n",
    "            if line[ind] in all_letters:\n",
    "                boxes[i].append(line[ind])\n",
    "\n",
    "    boxes = [list(filter(lambda x: x!=' ', box)) for box in boxes]\n",
    "\n",
    "    return boxes\n"
   ]
  },
  {
   "cell_type": "code",
   "execution_count": 11,
   "id": "06d0f74f",
   "metadata": {},
   "outputs": [
    {
     "data": {
      "text/plain": [
       "'FRDSQRRCD'"
      ]
     },
     "execution_count": 11,
     "metadata": {},
     "output_type": "execute_result"
    }
   ],
   "source": [
    "boxes = load_boxes()\n",
    "for line in lines[break_index+1:-1]:\n",
    "    move, fr, to = list(map(int,line.split()[1::2]))\n",
    "    \n",
    "    moving_boxes = boxes[fr-1][:move]\n",
    "    boxes[fr-1] = boxes[fr-1][move:]\n",
    "    boxes[to-1] = moving_boxes[::-1] + boxes[to-1]\n",
    "    \n",
    "''.join([boxes[i][0] for i in range(n_piles)])"
   ]
  },
  {
   "cell_type": "code",
   "execution_count": 12,
   "id": "d00a58bb",
   "metadata": {},
   "outputs": [
    {
     "data": {
      "text/plain": [
       "'HRFTQVWNN'"
      ]
     },
     "execution_count": 12,
     "metadata": {},
     "output_type": "execute_result"
    }
   ],
   "source": [
    "boxes = load_boxes()\n",
    "for line in lines[break_index+1:-1]:\n",
    "    move, fr, to = list(map(int,line.split()[1::2]))\n",
    "    \n",
    "    moving_boxes = boxes[fr-1][:move]\n",
    "    boxes[fr-1] = boxes[fr-1][move:]\n",
    "    boxes[to-1] = moving_boxes + boxes[to-1]\n",
    "    \n",
    "''.join([boxes[i][0] for i in range(n_piles)])"
   ]
  },
  {
   "cell_type": "markdown",
   "id": "b205d7f6",
   "metadata": {},
   "source": [
    "# Day 6"
   ]
  },
  {
   "cell_type": "code",
   "execution_count": 13,
   "id": "b9b37e25",
   "metadata": {},
   "outputs": [],
   "source": [
    "with open('inputs/day6.txt') as f:\n",
    "    stream = f.read()[:-1]"
   ]
  },
  {
   "cell_type": "code",
   "execution_count": 14,
   "id": "57b7773e",
   "metadata": {},
   "outputs": [
    {
     "name": "stdout",
     "output_type": "stream",
     "text": [
      "1042\n"
     ]
    }
   ],
   "source": [
    "window_length = 4\n",
    "for window_start in range(len(stream)-window_length):\n",
    "    if len(set(stream[window_start:window_start+window_length])) ==  window_length:\n",
    "        print(window_start+window_length)\n",
    "        break"
   ]
  },
  {
   "cell_type": "code",
   "execution_count": 15,
   "id": "98711645",
   "metadata": {},
   "outputs": [
    {
     "name": "stdout",
     "output_type": "stream",
     "text": [
      "2980\n"
     ]
    }
   ],
   "source": [
    "window_length = 14\n",
    "for window_start in range(len(stream)-window_length):\n",
    "    if len(set(stream[window_start:window_start+window_length])) ==  window_length:\n",
    "        print(window_start+window_length)\n",
    "        break"
   ]
  },
  {
   "cell_type": "markdown",
   "id": "98a5957c",
   "metadata": {},
   "source": [
    "# Day 7"
   ]
  },
  {
   "cell_type": "code",
   "execution_count": 16,
   "id": "a687dd04",
   "metadata": {},
   "outputs": [],
   "source": [
    "with open('inputs/day7.txt') as f:\n",
    "    lines = f.read().split('\\n')[:-1]"
   ]
  },
  {
   "cell_type": "code",
   "execution_count": 17,
   "id": "1a0b1955",
   "metadata": {},
   "outputs": [],
   "source": [
    "dirs = {'/': {'dirs': {}, 'total': 0, 'parent': None, 'name': '/'}}\n",
    "current_dir = dirs['/']\n",
    "all_dirs = [dirs['/']]\n",
    "for line in lines[2:]:\n",
    "    if line.startswith('$ cd'):\n",
    "        dst = line.split()[-1]\n",
    "        if dst == '..':\n",
    "            current_dir = current_dir['parent']\n",
    "        else:\n",
    "            current_dir = current_dir['dirs'][dst] \n",
    "    elif line.startswith('$ ls'):\n",
    "        continue\n",
    "    elif line.startswith('dir'):\n",
    "        dirname = line.split()[-1]\n",
    "        current_dir['dirs'][dirname] = {'dirs': {}, 'total': 0, 'parent': current_dir, 'name': dirname}\n",
    "        all_dirs.append(current_dir['dirs'][dirname])\n",
    "    else:\n",
    "        current_dir['total'] += int(line.split()[0])\n",
    "        \n",
    "def get_dir_size(directory):\n",
    "    if len(directory['dirs']) == 0:\n",
    "        return directory['total']\n",
    "    else:\n",
    "        return directory['total'] + sum(map(get_dir_size, directory['dirs'].values()))"
   ]
  },
  {
   "cell_type": "code",
   "execution_count": 18,
   "id": "ceb67410",
   "metadata": {},
   "outputs": [
    {
     "data": {
      "text/plain": [
       "1995759"
      ]
     },
     "execution_count": 18,
     "metadata": {},
     "output_type": "execute_result"
    }
   ],
   "source": [
    "all_dirs_sizes = list(map(get_dir_size, all_dirs))\n",
    "sum(s for s in all_dirs_sizes if s <= 100000)"
   ]
  },
  {
   "cell_type": "code",
   "execution_count": 19,
   "id": "d2e194b0",
   "metadata": {},
   "outputs": [
    {
     "data": {
      "text/plain": [
       "2568781"
      ]
     },
     "execution_count": 19,
     "metadata": {},
     "output_type": "execute_result"
    }
   ],
   "source": [
    "required_space = 30000000\n",
    "available_space = 70000000 - get_dir_size(dirs['/'])\n",
    "for d in sorted(all_dirs_sizes):\n",
    "    if available_space + d >= required_space:\n",
    "        break\n",
    "d"
   ]
  },
  {
   "cell_type": "markdown",
   "id": "03c7b4cf",
   "metadata": {},
   "source": [
    "# Day 8"
   ]
  },
  {
   "cell_type": "code",
   "execution_count": 20,
   "id": "02013da7",
   "metadata": {},
   "outputs": [],
   "source": [
    "with open('inputs/day8.txt') as f:\n",
    "    lines = f.read().split('\\n')[:-1]\n",
    "trees = []\n",
    "for line in lines:\n",
    "    trees.append(list(map(int, line)))"
   ]
  },
  {
   "cell_type": "code",
   "execution_count": 21,
   "id": "a0194b13",
   "metadata": {},
   "outputs": [
    {
     "data": {
      "text/plain": [
       "1703"
      ]
     },
     "execution_count": 21,
     "metadata": {},
     "output_type": "execute_result"
    }
   ],
   "source": [
    "\n",
    "\n",
    "visible_trees = set()\n",
    "for i in range(len(trees)):\n",
    "    for j in range(len(trees[0])):\n",
    "        trees[i][j]\n",
    "        if (\n",
    "            i in (0, len(trees)-1) or\n",
    "            j in (0, len(trees[0])-1) or\n",
    "            all(trees[i][j] > tree_row[j] for tree_row in trees[:i]) or\n",
    "            all(trees[i][j] > tree for tree in trees[i][:j]) or\n",
    "            all(trees[i][j] > tree_row[j] for tree_row in trees[i+1:]) or\n",
    "            all(trees[i][j] > tree for tree in trees[i][j+1:]) \n",
    "        ):\n",
    "            visible_trees.add((i,j))\n",
    "len(visible_trees)"
   ]
  },
  {
   "cell_type": "code",
   "execution_count": 22,
   "id": "ecc120b5",
   "metadata": {},
   "outputs": [
    {
     "data": {
      "text/plain": [
       "496650"
      ]
     },
     "execution_count": 22,
     "metadata": {},
     "output_type": "execute_result"
    }
   ],
   "source": [
    "most_scenic_score = 0\n",
    "up, down, left, right = 0,0,0,0\n",
    "for i in range(len(trees)):\n",
    "    for j in range(len(trees[0])):\n",
    "        for right in range(j-1, -1, -1):\n",
    "            if trees[i][right] >= trees[i][j]:\n",
    "                break\n",
    "        for left in range(j+1, len(trees[0])):\n",
    "            if trees[i][left] >= trees[i][j]:\n",
    "                break\n",
    "        for up in range(i-1, -1, -1):\n",
    "            if trees[up][j] >= trees[i][j]:\n",
    "                break\n",
    "        for down in range(i+1,len(trees)):\n",
    "            if trees[down][j] >= trees[i][j]:\n",
    "                break\n",
    "                                \n",
    "        scenic_score = (i-up)*(down-i)*(j-left)*(right-j)\n",
    "        if scenic_score > most_scenic_score:\n",
    "            most_scenic_score = scenic_score\n",
    "            \n",
    "most_scenic_score"
   ]
  },
  {
   "cell_type": "markdown",
   "id": "9586138c",
   "metadata": {},
   "source": [
    "# Day 9"
   ]
  },
  {
   "cell_type": "code",
   "execution_count": 23,
   "id": "d81fc3d8",
   "metadata": {},
   "outputs": [],
   "source": [
    "with open('inputs/day9.txt') as f:\n",
    "    lines = f.read().split('\\n')[:-1]"
   ]
  },
  {
   "cell_type": "code",
   "execution_count": 24,
   "id": "4fbac83f",
   "metadata": {},
   "outputs": [
    {
     "data": {
      "text/plain": [
       "6181"
      ]
     },
     "execution_count": 24,
     "metadata": {},
     "output_type": "execute_result"
    }
   ],
   "source": [
    "h_pos = (0,0)\n",
    "t_pos = (0,0)\n",
    "unique_pos = set()\n",
    "unique_pos.add((0,0))\n",
    "for line in lines:\n",
    "    direction, count = line.split()\n",
    "    count = int(count)\n",
    "    \n",
    "    for _ in range(count):\n",
    "        if direction == 'U':\n",
    "            h_pos = (h_pos[0], h_pos[1]+1)\n",
    "        if direction == 'D':\n",
    "            h_pos = (h_pos[0], h_pos[1]-1)\n",
    "        if direction == 'L':\n",
    "            h_pos = (h_pos[0]-1, h_pos[1])\n",
    "        if direction == 'R':\n",
    "            h_pos = (h_pos[0]+1, h_pos[1])\n",
    "            \n",
    "        hor_diff = h_pos[0] - t_pos[0]\n",
    "        ver_diff = h_pos[1] - t_pos[1]\n",
    "        \n",
    "        if max([abs(hor_diff), abs(ver_diff)]) <= 1:\n",
    "            continue\n",
    "            \n",
    "        # normalise preserving direction\n",
    "        hor_diff = hor_diff / abs(hor_diff) if hor_diff != 0 else 0\n",
    "        ver_diff = ver_diff / abs(ver_diff) if ver_diff != 0 else 0\n",
    "        \n",
    "        t_pos = (t_pos[0] + hor_diff, t_pos[1] + ver_diff)\n",
    "        \n",
    "        unique_pos.add(t_pos)\n",
    "len(unique_pos)"
   ]
  },
  {
   "cell_type": "code",
   "execution_count": 25,
   "id": "18bc566d",
   "metadata": {},
   "outputs": [
    {
     "data": {
      "text/plain": [
       "2386"
      ]
     },
     "execution_count": 25,
     "metadata": {},
     "output_type": "execute_result"
    }
   ],
   "source": [
    "h_pos = (0,0)\n",
    "rope = [(0,0)]*9\n",
    "unique_pos = set()\n",
    "for line in lines:\n",
    "    direction, count = line.split()\n",
    "    count = int(count)\n",
    "    \n",
    "    for _ in range(count):\n",
    "        if direction == 'U':\n",
    "            h_pos = (h_pos[0], h_pos[1]+1)\n",
    "        if direction == 'D':\n",
    "            h_pos = (h_pos[0], h_pos[1]-1)\n",
    "        if direction == 'L':\n",
    "            h_pos = (h_pos[0]-1, h_pos[1])\n",
    "        if direction == 'R':\n",
    "            h_pos = (h_pos[0]+1, h_pos[1])\n",
    "            \n",
    "        for i in range(len(rope)):\n",
    "            \n",
    "            lead_pos = rope[i-1] if i > 0 else h_pos\n",
    "            trail_pos = rope[i]\n",
    "            \n",
    "            hor_diff = lead_pos[0] - trail_pos[0]\n",
    "            ver_diff = lead_pos[1] - trail_pos[1]\n",
    "\n",
    "            if max([abs(hor_diff), abs(ver_diff)]) <= 1:\n",
    "                continue\n",
    "\n",
    "            # normalise preserving direction\n",
    "            hor_diff = hor_diff / abs(hor_diff) if hor_diff != 0 else 0\n",
    "            ver_diff = ver_diff / abs(ver_diff) if ver_diff != 0 else 0\n",
    "\n",
    "            rope[i] = (rope[i][0] + hor_diff, rope[i][1] + ver_diff)\n",
    "        \n",
    "        unique_pos.add(rope[-1])\n",
    "\n",
    "len(unique_pos)"
   ]
  },
  {
   "cell_type": "markdown",
   "id": "9d9ab6a8",
   "metadata": {},
   "source": [
    "# Day 10"
   ]
  },
  {
   "cell_type": "code",
   "execution_count": 26,
   "id": "e9802a04",
   "metadata": {},
   "outputs": [],
   "source": [
    "with open('inputs/day10.txt') as f:\n",
    "    lines = f.read().split('\\n')[:-1]"
   ]
  },
  {
   "cell_type": "code",
   "execution_count": 27,
   "id": "96dbe6d1",
   "metadata": {},
   "outputs": [
    {
     "data": {
      "text/plain": [
       "14420"
      ]
     },
     "execution_count": 27,
     "metadata": {},
     "output_type": "execute_result"
    }
   ],
   "source": [
    "cycle_number = 0\n",
    "register = 1\n",
    "result = 0\n",
    "interesting_cycles = {20, 60, 100, 140, 180, 220}\n",
    "for line in lines:\n",
    "    \n",
    "    cycle_number += 1\n",
    "    if cycle_number in interesting_cycles:\n",
    "        result += register * cycle_number\n",
    "    \n",
    "    if line.startswith('addx'):\n",
    "        cycle_number += 1\n",
    "        if cycle_number in interesting_cycles:\n",
    "            result += register * cycle_number  \n",
    "        register += int(line.split()[-1])\n",
    "    \n",
    "result"
   ]
  },
  {
   "cell_type": "code",
   "execution_count": 28,
   "id": "0ae86318",
   "metadata": {},
   "outputs": [
    {
     "name": "stdout",
     "output_type": "stream",
     "text": [
      "###...##..#....###..###..####..##..#..#.\n",
      "#..#.#..#.#....#..#.#..#....#.#..#.#..##\n",
      "#..#.#....#....#..#.###....#..#..#.#..#.\n",
      "###..#.##.#....###..#..#..#...####.#..##\n",
      "#.#..#..#.#....#.#..#..#.#....#..#.#..##\n",
      "#..#..###.####.#..#.###..####.#..#..##..\n",
      "\n"
     ]
    }
   ],
   "source": [
    "cycle_number = 0\n",
    "register = 1\n",
    "output = ''\n",
    "for line in lines:\n",
    "    \n",
    "    cycle_number += 1\n",
    "    output = output + '#' if abs(register - (cycle_number % 40) + 1) < 2 else output + '.'\n",
    "    \n",
    "    if cycle_number % 40 == 0:\n",
    "        output += '\\n'\n",
    "    \n",
    "    if line.startswith('addx'):\n",
    "        cycle_number += 1\n",
    "        output = output + '#' if abs(register - (cycle_number % 40) + 1) < 2 else output + '.'\n",
    "        if cycle_number % 40 == 0:\n",
    "            output += '\\n'\n",
    "        register += int(line.split()[-1])\n",
    "    \n",
    "print(output)"
   ]
  },
  {
   "cell_type": "markdown",
   "id": "28fee54c",
   "metadata": {},
   "source": [
    "# Day 11"
   ]
  },
  {
   "cell_type": "code",
   "execution_count": 29,
   "id": "1a4e7c57",
   "metadata": {
    "scrolled": true
   },
   "outputs": [
    {
     "data": {
      "text/plain": [
       "69918"
      ]
     },
     "execution_count": 29,
     "metadata": {},
     "output_type": "execute_result"
    }
   ],
   "source": [
    "with open('inputs/day11.txt') as f:\n",
    "    lines = f.read().split('\\n')\n",
    "\n",
    "monkeys = []\n",
    "monkey = {}\n",
    "for i, line in enumerate(lines):\n",
    "    if line == '':\n",
    "        monkey['inspections'] = 0\n",
    "        monkeys.append(monkey)\n",
    "        monkey = {}\n",
    "    if line.strip().startswith('Starting'):\n",
    "        monkey['items'] = list(map(lambda x: int(x.replace(',','')),line.split()[2:]))\n",
    "    if line.strip().startswith('Operation'):\n",
    "        op_string = line.split(':')[-1].replace(' =', ':').replace('new', 'old')\n",
    "        monkey['operation'] = eval(f'lambda {op_string}')\n",
    "    if line.strip().startswith('Test'):\n",
    "        divisor = int(line.split()[-1])\n",
    "        f = lambda x, divisor=divisor: (x % int(divisor)) == 0\n",
    "        monkey['test'] = f\n",
    "        monkey['test str'] = f'lambda x: (x % {divisor}) == 0'\n",
    "    if line.strip().startswith('If'):\n",
    "        monkey[line.split()[1][:-1]] = int(line.split()[-1])\n",
    "\n",
    "for _ in range(20):\n",
    "    for i, monkey in enumerate(monkeys):\n",
    "        for item in monkey['items']:\n",
    "            new_val = monkey['operation'](item) // 3           \n",
    "            if monkey['test'](new_val):\n",
    "\n",
    "                monkeys[monkey['true']]['items'].append(new_val)\n",
    "            else:\n",
    "                monkeys[monkey['false']]['items'].append(new_val)\n",
    "              \n",
    "            monkey['inspections'] += 1\n",
    "        monkey['items'] = []\n",
    "        \n",
    "monkeys = sorted(monkeys, key=lambda x: x['inspections'], reverse=True)\n",
    "monkeys[1]['inspections'] * monkeys[0]['inspections']"
   ]
  },
  {
   "cell_type": "markdown",
   "id": "4844841f",
   "metadata": {},
   "source": [
    "# Day 12"
   ]
  },
  {
   "cell_type": "code",
   "execution_count": 31,
   "id": "4da294ec",
   "metadata": {},
   "outputs": [],
   "source": [
    "with open('inputs/day12.txt') as f:\n",
    "    lines = f.read().split('\\n')[:-1]\n",
    "\n",
    "letter_to_height = {c: i for i, c in enumerate(all_letters)}    \n",
    "height_map = {}\n",
    "for i, line in enumerate(lines):\n",
    "    for j, c in enumerate(line):\n",
    "        if c == 'S':\n",
    "            start_pos = (i,j)\n",
    "            height_map[(i,j)] = letter_to_height['a']\n",
    "        elif c == 'E':\n",
    "            end_pos = (i,j)\n",
    "            height_map[(i,j)] = letter_to_height['z']\n",
    "        else:\n",
    "            height_map[(i,j)] = letter_to_height[c]\n",
    "\n",
    "    \n",
    "max_i = max(x[0] for x in height_map.keys()) \n",
    "max_j = max(x[1] for x in height_map.keys()) "
   ]
  },
  {
   "cell_type": "code",
   "execution_count": 32,
   "id": "68ca81f0",
   "metadata": {},
   "outputs": [
    {
     "data": {
      "text/plain": [
       "361"
      ]
     },
     "execution_count": 32,
     "metadata": {},
     "output_type": "execute_result"
    }
   ],
   "source": [
    "def find_path_down(pos, path, cheapest_paths):\n",
    "   \n",
    "    cheapest_paths[pos] = path\n",
    "    new_path = path + [pos]\n",
    "    new_path_length = len(new_path)\n",
    "    \n",
    "    i,j = pos\n",
    "    if (\n",
    "        i != 0 and\n",
    "        ((i-1, j) not in cheapest_paths or new_path_length < len(cheapest_paths[(i-1,j)])) and\n",
    "        height_map[pos] - height_map[(i-1, j)] <= 1\n",
    "    ):\n",
    "        find_path_down((i-1, j), new_path, cheapest_paths)\n",
    "    \n",
    "    if (\n",
    "        i != max_i and \n",
    "        ((i+1, j) not in cheapest_paths or new_path_length < len(cheapest_paths[(i+1,j)])) and\n",
    "        height_map[pos] - height_map[(i+1, j)] <= 1\n",
    "    ):\n",
    "        find_path_down((i+1, j), new_path, cheapest_paths)\n",
    "    \n",
    "    if (\n",
    "        j != 0 and \n",
    "        ((i, j-1) not in cheapest_paths or new_path_length < len(cheapest_paths[(i,j-1)])) and\n",
    "        height_map[pos] - height_map[(i, j-1)] <= 1\n",
    "    ):\n",
    "        find_path_down((i, j-1), new_path, cheapest_paths)\n",
    "    \n",
    "    if (\n",
    "        j != max_j and \n",
    "        ((i, j+1) not in cheapest_paths or new_path_length < len(cheapest_paths[(i,j+1)])) and\n",
    "        height_map[pos] - height_map[(i, j+1)] <= 1\n",
    "    ):\n",
    "        find_path_down((i, j+1), new_path, cheapest_paths)\n",
    "cheapest_paths_down = {}\n",
    "find_path_down(end_pos, [], cheapest_paths_down)\n",
    "len(cheapest_paths_down[start_pos])"
   ]
  },
  {
   "cell_type": "code",
   "execution_count": 33,
   "id": "291b7015",
   "metadata": {},
   "outputs": [
    {
     "data": {
      "text/plain": [
       "354"
      ]
     },
     "execution_count": 33,
     "metadata": {},
     "output_type": "execute_result"
    }
   ],
   "source": [
    "min([len(cheapest_paths_down[p]) for p, h in height_map.items() if h == 0 and p in cheapest_paths_down])"
   ]
  },
  {
   "cell_type": "markdown",
   "id": "dd8d1c77",
   "metadata": {},
   "source": [
    "# Day 13"
   ]
  },
  {
   "cell_type": "code",
   "execution_count": 136,
   "id": "f2f9caf5",
   "metadata": {},
   "outputs": [],
   "source": [
    "with open('inputs/day13.txt') as f:\n",
    "    lines = f.read().split('\\n')\n",
    "    \n",
    "pairs = []\n",
    "pair = []\n",
    "for line in lines:\n",
    "    if len(pair) == 2:\n",
    "        pairs.append(pair)\n",
    "        pair = []\n",
    "        continue\n",
    "    else:\n",
    "        pair.append(eval(line))"
   ]
  },
  {
   "cell_type": "code",
   "execution_count": 137,
   "id": "83467acf",
   "metadata": {},
   "outputs": [],
   "source": [
    "def compare_pair(l1, l2):\n",
    "    \n",
    "    for item1, item2 in zip(l1, l2):\n",
    "        \n",
    "        if isinstance(item1, int) and isinstance(item2, int):\n",
    "            if item1 == item2:\n",
    "                continue\n",
    "            else:\n",
    "                return item1 < item2\n",
    "          \n",
    "        if isinstance(item1, list) and isinstance(item2, int):\n",
    "            c = compare_pair(item1, [item2])\n",
    "            \n",
    "        if isinstance(item1, int) and isinstance(item2, list):\n",
    "            c = compare_pair([item1], item2)\n",
    "            \n",
    "        if isinstance(item1, list) and isinstance(item2, list):\n",
    "            c = compare_pair(item1, item2)\n",
    "        \n",
    "        if c is not None:\n",
    "            return c\n",
    "            \n",
    "    if len(l1) > len(l2):\n",
    "        return False\n",
    "    if len(l1) < len(l2):\n",
    "        return True"
   ]
  },
  {
   "cell_type": "code",
   "execution_count": 138,
   "id": "56e36f13",
   "metadata": {},
   "outputs": [
    {
     "data": {
      "text/plain": [
       "6428"
      ]
     },
     "execution_count": 138,
     "metadata": {},
     "output_type": "execute_result"
    }
   ],
   "source": [
    "s = 0\n",
    "for i, pair in enumerate(pairs):\n",
    "    \n",
    "    if compare_pair(*pair):\n",
    "        s += i+1\n",
    "s"
   ]
  },
  {
   "cell_type": "code",
   "execution_count": 139,
   "id": "7a74ef57",
   "metadata": {},
   "outputs": [
    {
     "data": {
      "text/plain": [
       "22464"
      ]
     },
     "execution_count": 139,
     "metadata": {},
     "output_type": "execute_result"
    }
   ],
   "source": [
    "class Signal:\n",
    "    \n",
    "    def __init__(self, signal):\n",
    "        self.signal = signal\n",
    "    def __lt__(self, other):\n",
    "        return compare_pair(self.signal, other.signal)\n",
    "\n",
    "all_signals = list(map(Signal,sum(pairs, start=[])))\n",
    "all_signals.append(Signal([[2]]))\n",
    "all_signals.append(Signal([[6]]))\n",
    "sorted_signals = [s.signal for s in sorted(all_signals)]\n",
    "(sorted_signals.index([[2]]) + 1) * (sorted_signals.index([[6]]) + 1)"
   ]
  },
  {
   "cell_type": "markdown",
   "id": "d3d29f7e",
   "metadata": {},
   "source": [
    " # Day 14"
   ]
  },
  {
   "cell_type": "code",
   "execution_count": 189,
   "id": "73d127f3",
   "metadata": {},
   "outputs": [],
   "source": [
    "with open('inputs/day14.txt') as f:\n",
    "    lines = f.read().split('\\n')[:-1]\n",
    "\n",
    "def get_occupied_coords():\n",
    "    occupied_coords = set() \n",
    "    for line in lines:\n",
    "        coords = line.split('->')\n",
    "        for i in range(len(coords)-1):\n",
    "            coord1 = tuple(map(int,coords[i].split(',')))\n",
    "            coord2 = tuple(map(int,coords[i+1].split(',')))\n",
    "\n",
    "            occupied_coords.add(coord1)\n",
    "            occupied_coords.add(coord2)\n",
    "            if coord1[0] == coord2[0]:\n",
    "                step = 1 if coord1[1] < coord2[1] else -1 \n",
    "                occupied_coords.update({(coord1[0], j) for j in range(coord1[1], coord2[1], step)})\n",
    "\n",
    "            else:\n",
    "                step = 1 if coord1[0] < coord2[0] else -1 \n",
    "                occupied_coords.update({(j, coord1[1]) for j in range(coord1[0], coord2[0], step)})\n",
    "    return occupied_coords"
   ]
  },
  {
   "cell_type": "code",
   "execution_count": 190,
   "id": "02179131",
   "metadata": {},
   "outputs": [
    {
     "data": {
      "text/plain": [
       "698"
      ]
     },
     "execution_count": 190,
     "metadata": {},
     "output_type": "execute_result"
    }
   ],
   "source": [
    "occupied_coords = get_occupied_coords()\n",
    "\n",
    "lowest_rock = max(c[1] for c in occupied_coords)\n",
    "\n",
    "def find_number_at_rest():\n",
    "    number_at_rest = 0\n",
    "    while True:\n",
    "        sand_pos = (500,0)\n",
    "        while sand_pos not in occupied_coords:\n",
    "            if sand_pos[1] >= lowest_rock:\n",
    "                return number_at_rest\n",
    "            elif (sand_pos[0], sand_pos[1]+1) not in occupied_coords:\n",
    "                sand_pos = (sand_pos[0], sand_pos[1]+1)\n",
    "            elif (sand_pos[0]-1, sand_pos[1]+1) not in occupied_coords:\n",
    "                sand_pos = (sand_pos[0]-1, sand_pos[1]+1)\n",
    "            elif (sand_pos[0]+1, sand_pos[1]+1) not in occupied_coords:\n",
    "                sand_pos = (sand_pos[0]+1, sand_pos[1]+1)\n",
    "            else:\n",
    "                occupied_coords.add(sand_pos)\n",
    "                number_at_rest += 1\n",
    "                \n",
    "find_number_at_rest()"
   ]
  },
  {
   "cell_type": "code",
   "execution_count": 191,
   "id": "3a9cf815",
   "metadata": {},
   "outputs": [
    {
     "data": {
      "text/plain": [
       "28594"
      ]
     },
     "execution_count": 191,
     "metadata": {},
     "output_type": "execute_result"
    }
   ],
   "source": [
    "occupied_coords = get_occupied_coords()\n",
    "\n",
    "floor = max(c[1] for c in occupied_coords) + 2\n",
    "number_at_rest = 0\n",
    "while (500,0) not in occupied_coords:\n",
    "    sand_pos = (500,0)\n",
    "    while sand_pos not in occupied_coords:\n",
    "        if sand_pos[1] == floor-1:\n",
    "            occupied_coords.add(sand_pos)\n",
    "            number_at_rest += 1\n",
    "        elif (sand_pos[0], sand_pos[1]+1) not in occupied_coords:\n",
    "            sand_pos = (sand_pos[0], sand_pos[1]+1)\n",
    "        elif (sand_pos[0]-1, sand_pos[1]+1) not in occupied_coords:\n",
    "            sand_pos = (sand_pos[0]-1, sand_pos[1]+1)\n",
    "        elif (sand_pos[0]+1, sand_pos[1]+1) not in occupied_coords:\n",
    "            sand_pos = (sand_pos[0]+1, sand_pos[1]+1)\n",
    "        else:\n",
    "            occupied_coords.add(sand_pos)\n",
    "            number_at_rest += 1\n",
    "            \n",
    "number_at_rest"
   ]
  },
  {
   "cell_type": "markdown",
   "id": "525061b4",
   "metadata": {},
   "source": [
    "# Day 15"
   ]
  },
  {
   "cell_type": "code",
   "execution_count": null,
   "id": "69d8b855",
   "metadata": {},
   "outputs": [],
   "source": []
  }
 ],
 "metadata": {
  "kernelspec": {
   "display_name": "Python 3 (ipykernel)",
   "language": "python",
   "name": "python3"
  },
  "language_info": {
   "codemirror_mode": {
    "name": "ipython",
    "version": 3
   },
   "file_extension": ".py",
   "mimetype": "text/x-python",
   "name": "python",
   "nbconvert_exporter": "python",
   "pygments_lexer": "ipython3",
   "version": "3.9.7"
  }
 },
 "nbformat": 4,
 "nbformat_minor": 5
}
